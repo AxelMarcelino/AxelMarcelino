{
  "nbformat": 4,
  "nbformat_minor": 0,
  "metadata": {
    "colab": {
      "provenance": [],
      "include_colab_link": true
    },
    "kernelspec": {
      "name": "python3",
      "display_name": "Python 3"
    },
    "language_info": {
      "name": "python"
    }
  },
  "cells": [
    {
      "cell_type": "markdown",
      "metadata": {
        "id": "view-in-github",
        "colab_type": "text"
      },
      "source": [
        "<a href=\"https://colab.research.google.com/github/AxelMarcelino/AxelMarcelino/blob/main/PrakML1_Axel_Marcelino_Sondakh.ipynb\" target=\"_parent\"><img src=\"https://colab.research.google.com/assets/colab-badge.svg\" alt=\"Open In Colab\"/></a>"
      ]
    },
    {
      "cell_type": "markdown",
      "source": [
        "# **Axel Marcelino Sondakh**\n",
        "\n",
        "**24060120140166**"
      ],
      "metadata": {
        "id": "g7m-rXGKak-J"
      }
    },
    {
      "cell_type": "markdown",
      "source": [
        "# Understanding Dataset"
      ],
      "metadata": {
        "id": "aX8d5F0z4PF8"
      }
    },
    {
      "cell_type": "code",
      "execution_count": null,
      "metadata": {
        "colab": {
          "base_uri": "https://localhost:8080/"
        },
        "id": "g77iSHa3uik6",
        "outputId": "99fc8837-e7f3-4300-e7bf-9cca93cbb31f"
      },
      "outputs": [
        {
          "output_type": "stream",
          "name": "stdout",
          "text": [
            "Drive already mounted at /content/drive; to attempt to forcibly remount, call drive.mount(\"/content/drive\", force_remount=True).\n"
          ]
        }
      ],
      "source": [
        "import pandas as pd\n",
        "import numpy as np\n",
        "import matplotlib.pyplot as plt\n",
        "\n",
        "from google.colab import drive\n",
        "drive.mount('/content/drive')\n",
        "\n",
        "df = pd.read_excel('/content/drive/MyDrive/PrakML/Cryotherapy.xlsx')"
      ]
    },
    {
      "cell_type": "markdown",
      "source": [
        "Melakukan koneksi dengan Google Drive yang digunakan untuk menyimpan dataset, yaitu dataset Cryotherapy.xlsx di folder PrakML dengan fitur drive dari library google.colab dan fitur pd.read_excel dari library pandas untuk mengambil dataset tersebut dari Google Drive dan kita gunakan untuk proses Machine Learning pada tugas praktikum kali ini. Dataset tersebut saya namai dengan df.\n",
        "\n",
        "Dataset Cryotherapy.xlsx ini saya ambil dari website UCI Machine Learning, yaitu https://archive.ics.uci.edu/ml/datasets/Cryotherapy+Dataset+#"
      ],
      "metadata": {
        "id": "XwFKrcp47N-c"
      }
    },
    {
      "cell_type": "code",
      "source": [
        "df.head(10)"
      ],
      "metadata": {
        "colab": {
          "base_uri": "https://localhost:8080/",
          "height": 407
        },
        "id": "Kuen8F2C2VG1",
        "outputId": "e44f039b-c8d3-46eb-9b18-f43abf910ad3"
      },
      "execution_count": null,
      "outputs": [
        {
          "output_type": "execute_result",
          "data": {
            "text/plain": [
              "   sex  age   Time  Number_of_Warts  Type  Area  Result_of_Treatment\n",
              "0    1   35  12.00                5     1   100                    0\n",
              "1    1   29   7.00                5     1    96                    1\n",
              "2    1   50   8.00                1     3   132                    0\n",
              "3    1   32  11.75                7     3   750                    0\n",
              "4    1   67   9.25                1     1    42                    0\n",
              "5    1   41   8.00                2     2    20                    1\n",
              "6    1   36  11.00                2     1     8                    0\n",
              "7    1   59   3.50                3     3    20                    0\n",
              "8    1   20   4.50               12     1     6                    1\n",
              "9    2   34  11.25                3     3   150                    0"
            ],
            "text/html": [
              "\n",
              "  <div id=\"df-07e52c14-6de5-491f-a219-195f864d3fd1\">\n",
              "    <div class=\"colab-df-container\">\n",
              "      <div>\n",
              "<style scoped>\n",
              "    .dataframe tbody tr th:only-of-type {\n",
              "        vertical-align: middle;\n",
              "    }\n",
              "\n",
              "    .dataframe tbody tr th {\n",
              "        vertical-align: top;\n",
              "    }\n",
              "\n",
              "    .dataframe thead th {\n",
              "        text-align: right;\n",
              "    }\n",
              "</style>\n",
              "<table border=\"1\" class=\"dataframe\">\n",
              "  <thead>\n",
              "    <tr style=\"text-align: right;\">\n",
              "      <th></th>\n",
              "      <th>sex</th>\n",
              "      <th>age</th>\n",
              "      <th>Time</th>\n",
              "      <th>Number_of_Warts</th>\n",
              "      <th>Type</th>\n",
              "      <th>Area</th>\n",
              "      <th>Result_of_Treatment</th>\n",
              "    </tr>\n",
              "  </thead>\n",
              "  <tbody>\n",
              "    <tr>\n",
              "      <th>0</th>\n",
              "      <td>1</td>\n",
              "      <td>35</td>\n",
              "      <td>12.00</td>\n",
              "      <td>5</td>\n",
              "      <td>1</td>\n",
              "      <td>100</td>\n",
              "      <td>0</td>\n",
              "    </tr>\n",
              "    <tr>\n",
              "      <th>1</th>\n",
              "      <td>1</td>\n",
              "      <td>29</td>\n",
              "      <td>7.00</td>\n",
              "      <td>5</td>\n",
              "      <td>1</td>\n",
              "      <td>96</td>\n",
              "      <td>1</td>\n",
              "    </tr>\n",
              "    <tr>\n",
              "      <th>2</th>\n",
              "      <td>1</td>\n",
              "      <td>50</td>\n",
              "      <td>8.00</td>\n",
              "      <td>1</td>\n",
              "      <td>3</td>\n",
              "      <td>132</td>\n",
              "      <td>0</td>\n",
              "    </tr>\n",
              "    <tr>\n",
              "      <th>3</th>\n",
              "      <td>1</td>\n",
              "      <td>32</td>\n",
              "      <td>11.75</td>\n",
              "      <td>7</td>\n",
              "      <td>3</td>\n",
              "      <td>750</td>\n",
              "      <td>0</td>\n",
              "    </tr>\n",
              "    <tr>\n",
              "      <th>4</th>\n",
              "      <td>1</td>\n",
              "      <td>67</td>\n",
              "      <td>9.25</td>\n",
              "      <td>1</td>\n",
              "      <td>1</td>\n",
              "      <td>42</td>\n",
              "      <td>0</td>\n",
              "    </tr>\n",
              "    <tr>\n",
              "      <th>5</th>\n",
              "      <td>1</td>\n",
              "      <td>41</td>\n",
              "      <td>8.00</td>\n",
              "      <td>2</td>\n",
              "      <td>2</td>\n",
              "      <td>20</td>\n",
              "      <td>1</td>\n",
              "    </tr>\n",
              "    <tr>\n",
              "      <th>6</th>\n",
              "      <td>1</td>\n",
              "      <td>36</td>\n",
              "      <td>11.00</td>\n",
              "      <td>2</td>\n",
              "      <td>1</td>\n",
              "      <td>8</td>\n",
              "      <td>0</td>\n",
              "    </tr>\n",
              "    <tr>\n",
              "      <th>7</th>\n",
              "      <td>1</td>\n",
              "      <td>59</td>\n",
              "      <td>3.50</td>\n",
              "      <td>3</td>\n",
              "      <td>3</td>\n",
              "      <td>20</td>\n",
              "      <td>0</td>\n",
              "    </tr>\n",
              "    <tr>\n",
              "      <th>8</th>\n",
              "      <td>1</td>\n",
              "      <td>20</td>\n",
              "      <td>4.50</td>\n",
              "      <td>12</td>\n",
              "      <td>1</td>\n",
              "      <td>6</td>\n",
              "      <td>1</td>\n",
              "    </tr>\n",
              "    <tr>\n",
              "      <th>9</th>\n",
              "      <td>2</td>\n",
              "      <td>34</td>\n",
              "      <td>11.25</td>\n",
              "      <td>3</td>\n",
              "      <td>3</td>\n",
              "      <td>150</td>\n",
              "      <td>0</td>\n",
              "    </tr>\n",
              "  </tbody>\n",
              "</table>\n",
              "</div>\n",
              "      <button class=\"colab-df-convert\" onclick=\"convertToInteractive('df-07e52c14-6de5-491f-a219-195f864d3fd1')\"\n",
              "              title=\"Convert this dataframe to an interactive table.\"\n",
              "              style=\"display:none;\">\n",
              "        \n",
              "  <svg xmlns=\"http://www.w3.org/2000/svg\" height=\"24px\"viewBox=\"0 0 24 24\"\n",
              "       width=\"24px\">\n",
              "    <path d=\"M0 0h24v24H0V0z\" fill=\"none\"/>\n",
              "    <path d=\"M18.56 5.44l.94 2.06.94-2.06 2.06-.94-2.06-.94-.94-2.06-.94 2.06-2.06.94zm-11 1L8.5 8.5l.94-2.06 2.06-.94-2.06-.94L8.5 2.5l-.94 2.06-2.06.94zm10 10l.94 2.06.94-2.06 2.06-.94-2.06-.94-.94-2.06-.94 2.06-2.06.94z\"/><path d=\"M17.41 7.96l-1.37-1.37c-.4-.4-.92-.59-1.43-.59-.52 0-1.04.2-1.43.59L10.3 9.45l-7.72 7.72c-.78.78-.78 2.05 0 2.83L4 21.41c.39.39.9.59 1.41.59.51 0 1.02-.2 1.41-.59l7.78-7.78 2.81-2.81c.8-.78.8-2.07 0-2.86zM5.41 20L4 18.59l7.72-7.72 1.47 1.35L5.41 20z\"/>\n",
              "  </svg>\n",
              "      </button>\n",
              "      \n",
              "  <style>\n",
              "    .colab-df-container {\n",
              "      display:flex;\n",
              "      flex-wrap:wrap;\n",
              "      gap: 12px;\n",
              "    }\n",
              "\n",
              "    .colab-df-convert {\n",
              "      background-color: #E8F0FE;\n",
              "      border: none;\n",
              "      border-radius: 50%;\n",
              "      cursor: pointer;\n",
              "      display: none;\n",
              "      fill: #1967D2;\n",
              "      height: 32px;\n",
              "      padding: 0 0 0 0;\n",
              "      width: 32px;\n",
              "    }\n",
              "\n",
              "    .colab-df-convert:hover {\n",
              "      background-color: #E2EBFA;\n",
              "      box-shadow: 0px 1px 2px rgba(60, 64, 67, 0.3), 0px 1px 3px 1px rgba(60, 64, 67, 0.15);\n",
              "      fill: #174EA6;\n",
              "    }\n",
              "\n",
              "    [theme=dark] .colab-df-convert {\n",
              "      background-color: #3B4455;\n",
              "      fill: #D2E3FC;\n",
              "    }\n",
              "\n",
              "    [theme=dark] .colab-df-convert:hover {\n",
              "      background-color: #434B5C;\n",
              "      box-shadow: 0px 1px 3px 1px rgba(0, 0, 0, 0.15);\n",
              "      filter: drop-shadow(0px 1px 2px rgba(0, 0, 0, 0.3));\n",
              "      fill: #FFFFFF;\n",
              "    }\n",
              "  </style>\n",
              "\n",
              "      <script>\n",
              "        const buttonEl =\n",
              "          document.querySelector('#df-07e52c14-6de5-491f-a219-195f864d3fd1 button.colab-df-convert');\n",
              "        buttonEl.style.display =\n",
              "          google.colab.kernel.accessAllowed ? 'block' : 'none';\n",
              "\n",
              "        async function convertToInteractive(key) {\n",
              "          const element = document.querySelector('#df-07e52c14-6de5-491f-a219-195f864d3fd1');\n",
              "          const dataTable =\n",
              "            await google.colab.kernel.invokeFunction('convertToInteractive',\n",
              "                                                     [key], {});\n",
              "          if (!dataTable) return;\n",
              "\n",
              "          const docLinkHtml = 'Like what you see? Visit the ' +\n",
              "            '<a target=\"_blank\" href=https://colab.research.google.com/notebooks/data_table.ipynb>data table notebook</a>'\n",
              "            + ' to learn more about interactive tables.';\n",
              "          element.innerHTML = '';\n",
              "          dataTable['output_type'] = 'display_data';\n",
              "          await google.colab.output.renderOutput(dataTable, element);\n",
              "          const docLink = document.createElement('div');\n",
              "          docLink.innerHTML = docLinkHtml;\n",
              "          element.appendChild(docLink);\n",
              "        }\n",
              "      </script>\n",
              "    </div>\n",
              "  </div>\n",
              "  "
            ]
          },
          "metadata": {},
          "execution_count": 74
        }
      ]
    },
    {
      "cell_type": "markdown",
      "source": [
        "Sedikit tampilan mengenai dataset Cryotherapy.xlsx sebanyak 10 baris"
      ],
      "metadata": {
        "id": "TRVWi1-Z7qzY"
      }
    },
    {
      "cell_type": "markdown",
      "source": [
        "# Splitting Dataset\n",
        "### Memisahkan dataset menjadi Training dan Testing Dataset dengan rasio 80% untuk Training Dataset dan 20% untuk Testing Dataset"
      ],
      "metadata": {
        "id": "anTHnoC74RmZ"
      }
    },
    {
      "cell_type": "code",
      "source": [
        "from sklearn import model_selection\n",
        "\n",
        "# Dependent Variable\n",
        "y = df[\"Result_of_Treatment\"]\n",
        "# Independent Variable\n",
        "X = df.drop([\"Result_of_Treatment\"], axis = 1)\n",
        "\n",
        "X_train, X_validation, y_train, y_validation = train_test_split(X, y, test_size = 0.2, random_state = 7)"
      ],
      "metadata": {
        "id": "B8l_quBBbe1H"
      },
      "execution_count": null,
      "outputs": []
    },
    {
      "cell_type": "markdown",
      "source": [
        "Dilakukan pemisahan dataset menjadi Training dan Testing (Validation) Dataset dengan rasio 80% untuk Training Dataset dan 20% untuk Testing (Validation) Dataset dengan salah satu fitur library Scikit-Learn, yaitu train_test_split dengan random_state = 7"
      ],
      "metadata": {
        "id": "_YcQuUMV6kjY"
      }
    },
    {
      "cell_type": "markdown",
      "source": [
        "Di bawah ini merupakan shape dari Training dan Testing Dataset untuk memperlihatkan secara lebih jelas / detail mengenai seberapa banyak baris dan kolom yang dimiliki masing-masing Training dan Testing Dataset. X_train merupakan Independent Variables untuk Training Dataset, y_train merupakan Dependent Variables untuk Training Dataset, X_validation merupakan Independent Variables untuk Testing (Validation) Dataset, dan y_validation merupakan Dependent Variables untuk Testing (Validation) Dataset."
      ],
      "metadata": {
        "id": "rRLCX2wn68ME"
      }
    },
    {
      "cell_type": "code",
      "source": [
        "X_train.shape"
      ],
      "metadata": {
        "colab": {
          "base_uri": "https://localhost:8080/"
        },
        "id": "Ji0mKPRQ6SQu",
        "outputId": "68d5d3d9-c749-4a20-b57e-96cfe40e5d2f"
      },
      "execution_count": null,
      "outputs": [
        {
          "output_type": "execute_result",
          "data": {
            "text/plain": [
              "(72, 6)"
            ]
          },
          "metadata": {},
          "execution_count": 108
        }
      ]
    },
    {
      "cell_type": "code",
      "source": [
        "y_train.shape"
      ],
      "metadata": {
        "colab": {
          "base_uri": "https://localhost:8080/"
        },
        "id": "P-9565gR6Yp7",
        "outputId": "6ac294ea-c9d4-44a9-85ee-979ab3c17b58"
      },
      "execution_count": null,
      "outputs": [
        {
          "output_type": "execute_result",
          "data": {
            "text/plain": [
              "(72,)"
            ]
          },
          "metadata": {},
          "execution_count": 110
        }
      ]
    },
    {
      "cell_type": "code",
      "source": [
        "X_validation.shape"
      ],
      "metadata": {
        "colab": {
          "base_uri": "https://localhost:8080/"
        },
        "id": "P-pNR9U32wPF",
        "outputId": "4bfd54cf-eb69-40fa-9f0d-19588a84de6d"
      },
      "execution_count": null,
      "outputs": [
        {
          "output_type": "execute_result",
          "data": {
            "text/plain": [
              "(18, 6)"
            ]
          },
          "metadata": {},
          "execution_count": 109
        }
      ]
    },
    {
      "cell_type": "code",
      "source": [
        "y_validation.shape"
      ],
      "metadata": {
        "colab": {
          "base_uri": "https://localhost:8080/"
        },
        "id": "0_jAN2Wi3wQc",
        "outputId": "64e30068-5b58-4f26-d236-ce699c224797"
      },
      "execution_count": null,
      "outputs": [
        {
          "output_type": "execute_result",
          "data": {
            "text/plain": [
              "(18,)"
            ]
          },
          "metadata": {},
          "execution_count": 111
        }
      ]
    },
    {
      "cell_type": "markdown",
      "source": [
        "# Algorithm Model Evaluation\n",
        "### Memilih Model Algoritma Terbaik berdasarkan nilai mean dan standar deviasi"
      ],
      "metadata": {
        "id": "avJDXqRQ41_d"
      }
    },
    {
      "cell_type": "code",
      "source": [
        "from sklearn.neighbors import KNeighborsClassifier\n",
        "from sklearn.naive_bayes import GaussianNB\n",
        "from sklearn.svm import SVC"
      ],
      "metadata": {
        "id": "A7C-p0q-f3i5"
      },
      "execution_count": null,
      "outputs": []
    },
    {
      "cell_type": "markdown",
      "source": [
        "Mengimpor fitur KNeighborsClassifier (KNN), GaussianNB (Gaussian Naive Bayes), dan SVC (Support Vector Machine / SVM) untuk digunakan sebagai model dalam tugas praktikum Machine Learning kali ini dari library Scikit-Learn (sklearn.neighbors, sklearn.naive_bayes, dan sklearn.svm)"
      ],
      "metadata": {
        "id": "rXPcsbQv8Dlb"
      }
    },
    {
      "cell_type": "code",
      "source": [
        "models = []\n",
        "models.append(('KNN', KNeighborsClassifier()))\n",
        "models.append(('NB', GaussianNB()))\n",
        "models.append(('SVM', SVC()))"
      ],
      "metadata": {
        "id": "tiPwlcfSsZX_"
      },
      "execution_count": null,
      "outputs": []
    },
    {
      "cell_type": "markdown",
      "source": [
        "Memasukkan seluruh model (KNeighborsClassifier, GaussianNB, dan SVC) ke dalam array yang diberi nama models"
      ],
      "metadata": {
        "id": "7iwI81648XE-"
      }
    },
    {
      "cell_type": "code",
      "source": [
        "results = []\n",
        "names = []\n",
        "\n",
        "for (name, model) in models:\n",
        "  kfold = KFold(n_splits=10, random_state=7, shuffle = True)\n",
        "  cv_results = cross_val_score(model, X_train, y_train, cv = kfold, scoring= 'accuracy')\n",
        "  results.append(cv_results)\n",
        "  names.append(name)\n",
        "  msg = \"%s: %f (%f)\" %(name, cv_results.mean(), cv_results.std())\n",
        "  print(msg)"
      ],
      "metadata": {
        "colab": {
          "base_uri": "https://localhost:8080/"
        },
        "id": "DNE0VLxznTR_",
        "outputId": "2b66b2cf-b257-4fa7-c509-51ead9ea443c"
      },
      "execution_count": null,
      "outputs": [
        {
          "output_type": "stream",
          "name": "stdout",
          "text": [
            "KNN: 0.719643 (0.158527)\n",
            "NB: 0.844643 (0.149414)\n",
            "SVM: 0.482143 (0.199489)\n"
          ]
        }
      ]
    },
    {
      "cell_type": "markdown",
      "source": [
        "Mencari nilai rata-rata (mean) dan standar deviasi (std) dari 3 model tersebut untuk menentukan model algoritma yang terbaik untuk dataset Cryotherapy.xlsx ini yang di mana semakin tinggi nilai mean dan semakin rendah nilai standar deviasi, maka semakin baik pula model tersebut untuk dataset kita. Pencarian nilai mean dan std tersebut menggunakan bantuan fitur KFold() untuk membuat Folds dengan sebanyak 10 Folds, cross_val_score() untuk mengembalikan nilai berupa array yang terdiri dari akurasi pengujian setiap fold dari dataset, mean() untuk mencari nilai mean (rata-rata), dan std() untuk mencari nilai standar deviasi. Pada tahap ini, dapat kita lihat bahwa model algoritma yang terbaik merupakan model Gaussian Naive Bayes dengan nilai mean sebanyak 0.84463 dan nilai standar deviasi sebanyak 0.149414."
      ],
      "metadata": {
        "id": "vTGY2A_w8owq"
      }
    },
    {
      "cell_type": "markdown",
      "source": [
        "# Gaussian Naive Bayes Evaluation\n",
        "### Dilakukan evaluasi dengan melihat nilai accuracy dan juga melihat confusion matrix serta classification report untuk melihat hasil evaluasi lainnya, seperti nilai precision, recall, dan f1 score dari dataset kita"
      ],
      "metadata": {
        "id": "p5ragHPX45Z-"
      }
    },
    {
      "cell_type": "code",
      "source": [
        "from sklearn import metrics\n",
        "\n",
        "GNB = GaussianNB()\n",
        "GNB = GNB.fit(X_train, y_train)\n",
        "y_pred = GNB.predict(X_validation)\n",
        "\n",
        "print(\"Accuracy Score Gaussian Naive Bayes : \", accuracy_score(y_validation, y_pred), \"\\n\")\n",
        "print(\"Confusion Matrix :\\n\", confusion_matrix(y_validation, y_pred), \"\\n\")\n",
        "print(\"Classification Report :\\n\", classification_report(y_validation, y_pred))"
      ],
      "metadata": {
        "colab": {
          "base_uri": "https://localhost:8080/"
        },
        "id": "PEiSBdfb0m4P",
        "outputId": "3266f2d7-a693-42cd-e26c-f66d3983383b"
      },
      "execution_count": null,
      "outputs": [
        {
          "output_type": "stream",
          "name": "stdout",
          "text": [
            "Accuracy Score Gaussian Naive Bayes :  0.8888888888888888 \n",
            "\n",
            "Confusion Matrix :\n",
            " [[ 4  2]\n",
            " [ 0 12]] \n",
            "\n",
            "Classification Report :\n",
            "               precision    recall  f1-score   support\n",
            "\n",
            "           0       1.00      0.67      0.80         6\n",
            "           1       0.86      1.00      0.92        12\n",
            "\n",
            "    accuracy                           0.89        18\n",
            "   macro avg       0.93      0.83      0.86        18\n",
            "weighted avg       0.90      0.89      0.88        18\n",
            "\n"
          ]
        }
      ]
    },
    {
      "cell_type": "markdown",
      "source": [
        "Pada tahap terakhir ini, kita melakukan evaluasi terhadap model algoritma yang kita pilih, yaitu Gaussian Naive Bayes. Di sini, kita akan dapat melihat nilai accuracy dari model algoritma Gaussian Naive Bayes yaitu 89%, Confusion Matrix-nya, dan Classification Report-nya yang di mana kita dapat melihat nilai precision, recall, f1-score, dan yang lainnya."
      ],
      "metadata": {
        "id": "oablnZrP-Hrc"
      }
    }
  ]
}